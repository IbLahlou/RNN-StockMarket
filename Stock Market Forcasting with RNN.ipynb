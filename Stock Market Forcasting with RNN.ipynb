{
 "cells": [
  {
   "cell_type": "markdown",
   "id": "23f79c4a",
   "metadata": {},
   "source": [
    "<br>\n",
    "<font color=\"#444499\" size=\"7\" style=\"line-height: 1.1\"> Practicing Recurrent Neural Network in Appel Stock Market Dataset</font>"
   ]
  },
  {
   "cell_type": "markdown",
   "id": "8e7df8cc",
   "metadata": {},
   "source": [
    "# Context"
   ]
  },
  {
   "cell_type": "markdown",
   "id": "951a74a7",
   "metadata": {},
   "source": [
    "Le marché boursier est un marché qui permet l'échange transparent d'achats et de ventes d'actions d'entreprises. Chaque bourse a son propre indice boursier. L'indice est la valeur moyenne calculée en combinant plusieurs actions. Il permet de représenter l'ensemble du marché boursier et de prédire son évolution dans le temps. Le marché boursier peut avoir un impact considérable sur les personnes et sur l'économie du pays dans son ensemble. Par conséquent, prévoir les tendances boursières de manière efficace permet de minimiser le risque de perte et de maximiser le profit.\n"
   ]
  },
  {
   "cell_type": "markdown",
   "id": "fac7717f",
   "metadata": {
    "ExecuteTime": {
     "end_time": "2023-03-19T13:44:00.463694Z",
     "start_time": "2023-03-19T13:44:00.416401Z"
    }
   },
   "source": [
    "# Objective"
   ]
  },
  {
   "cell_type": "markdown",
   "id": "28747bbb",
   "metadata": {},
   "source": [
    "L'objectif principal de l'utilisation d'un modèle de réseau de neurones récurrents (RNN) pour l'analyse de données temporelles est de capturer les relations complexes et les dépendances temporelles dans les données, afin de faire des prédictions précises sur les valeurs futures. Les RNN sont particulièrement utiles dans la modélisation de séries temporelles car ils peuvent prendre en compte les informations passées pour prédire les valeurs futures. En utilisant un modèle RNN, l'objectif est donc d'améliorer la précision des prévisions et de permettre une meilleure compréhension des tendances et des modèles dans les données temporelles."
   ]
  },
  {
   "cell_type": "markdown",
   "id": "837f0e95",
   "metadata": {},
   "source": [
    "# Variables"
   ]
  },
  {
   "cell_type": "markdown",
   "id": "20d67464",
   "metadata": {},
   "source": [
    "Le fichiers contient ces Attributs :\n",
    "\n",
    "-   Unnamed: 0: un index numérique pour chaque entrée de données.\n",
    "-   symbol: le symbole de l'entreprise cotée en bourse.\n",
    "-   date: la date à laquelle les données ont été collectées.\n",
    "-   close: le prix de clôture de l'action pour la journée.\n",
    "-   high: le prix le plus élevé atteint par l'action au cours de la journée.\n",
    "-   low: le prix le plus bas atteint par l'action au cours de la journée.\n",
    "-   open: le prix d'ouverture de l'action pour la journée.\n",
    "-   volume: le nombre total d'actions échangées pour la journée.\n",
    "-   adjClose: le prix de clôture ajusté en fonction des actions telles que les dividendes et les splits.\n",
    "-   adjHigh: le prix le plus élevé ajusté pour les actions telles que les dividendes et les splits.\n",
    "-   adjLow: le prix le plus bas ajusté pour les actions telles que les dividendes et les splits.\n",
    "-   adjOpen: le prix d'ouverture ajusté pour les actions telles que les dividendes et les splits.\n",
    "-   adjVolume: le volume ajusté pour les actions telles que les dividendes et les splits.\n",
    "-   divCash: le montant de la distribution de dividendes en espèces.\n",
    "-   splitFactor: le facteur de division d'actions pour les actions ayant subi une division d'actions\n"
   ]
  },
  {
   "cell_type": "markdown",
   "id": "eb24c914",
   "metadata": {},
   "source": [
    "# Data importation"
   ]
  },
  {
   "cell_type": "code",
   "execution_count": 1,
   "id": "db812470",
   "metadata": {
    "ExecuteTime": {
     "end_time": "2023-03-19T21:42:15.129980Z",
     "start_time": "2023-03-19T21:42:13.127525Z"
    }
   },
   "outputs": [],
   "source": [
    "# import modules\n",
    "import numpy as np\n",
    "import matplotlib.pyplot as plt\n",
    "import pandas as pd"
   ]
  },
  {
   "cell_type": "code",
   "execution_count": 2,
   "id": "47c48b93",
   "metadata": {
    "ExecuteTime": {
     "end_time": "2023-03-19T21:42:18.530315Z",
     "start_time": "2023-03-19T21:42:15.129980Z"
    }
   },
   "outputs": [],
   "source": [
    "# Import Data\n",
    "data=pd.read_csv(\"https://raw.githubusercontent.com/krishnaik06/Stock-MArket-Forecasting/master/AAPL.csv\",index_col=1,parse_dates=['date'])"
   ]
  },
  {
   "cell_type": "markdown",
   "id": "dcebb888",
   "metadata": {},
   "source": [
    "# Data Cleaning"
   ]
  },
  {
   "cell_type": "code",
   "execution_count": 3,
   "id": "e672e433",
   "metadata": {
    "ExecuteTime": {
     "end_time": "2023-03-19T21:42:18.567494Z",
     "start_time": "2023-03-19T21:42:18.535503Z"
    }
   },
   "outputs": [
    {
     "name": "stdout",
     "output_type": "stream",
     "text": [
      "Unnamed: 0     0\n",
      "date           0\n",
      "close          0\n",
      "high           0\n",
      "low            0\n",
      "open           0\n",
      "volume         0\n",
      "adjClose       0\n",
      "adjHigh        0\n",
      "adjLow         0\n",
      "adjOpen        0\n",
      "adjVolume      0\n",
      "divCash        0\n",
      "splitFactor    0\n",
      "dtype: int64\n"
     ]
    }
   ],
   "source": [
    "# Check for missing values\n",
    "print(data.isnull().sum())\n",
    "\n",
    "# Drop missing values\n",
    "data = data.dropna()"
   ]
  },
  {
   "cell_type": "markdown",
   "id": "6002bedb",
   "metadata": {
    "ExecuteTime": {
     "end_time": "2023-03-19T13:52:16.523989Z",
     "start_time": "2023-03-19T13:52:16.508829Z"
    }
   },
   "source": [
    "# Summarize The Data"
   ]
  },
  {
   "cell_type": "code",
   "execution_count": 4,
   "id": "4daabf36",
   "metadata": {
    "ExecuteTime": {
     "end_time": "2023-03-19T21:42:18.656440Z",
     "start_time": "2023-03-19T21:42:18.572492Z"
    }
   },
   "outputs": [
    {
     "name": "stdout",
     "output_type": "stream",
     "text": [
      "        Unnamed: 0        close         high          low         open  \\\n",
      "count  1258.000000  1258.000000  1258.000000  1258.000000  1258.000000   \n",
      "mean    628.500000   167.723998   169.230475   166.039780   167.548266   \n",
      "std     363.297628    56.850796    57.500128    56.006773    56.612707   \n",
      "min       0.000000    90.340000    91.670000    89.470000    90.000000   \n",
      "25%     314.250000   116.327500   117.405000   115.602500   116.482500   \n",
      "50%     628.500000   160.485000   162.080000   158.974250   160.345000   \n",
      "75%     942.750000   199.785000   201.277500   198.170000   199.520000   \n",
      "max    1257.000000   327.200000   327.850000   323.350000   324.730000   \n",
      "\n",
      "             volume     adjClose      adjHigh       adjLow      adjOpen  \\\n",
      "count  1.258000e+03  1258.000000  1258.000000  1258.000000  1258.000000   \n",
      "mean   3.500397e+07   162.666715   164.131054   161.028013   162.493082   \n",
      "std    1.729100e+07    58.733820    59.402842    57.869246    58.494560   \n",
      "min    1.136204e+07    84.954351    86.205062    84.136216    84.634620   \n",
      "25%    2.359205e+07   109.484490   110.393556   107.962457   109.135002   \n",
      "50%    3.064771e+07   154.710645   156.091874   153.054341   154.410017   \n",
      "75%    4.100487e+07   196.960053   198.428438   195.281553   196.452903   \n",
      "max    1.622063e+08   326.337147   326.357095   322.497300   323.873661   \n",
      "\n",
      "          adjVolume      divCash  splitFactor  \n",
      "count  1.258000e+03  1258.000000       1258.0  \n",
      "mean   3.500397e+07     0.010477          1.0  \n",
      "std    1.729100e+07     0.083366          0.0  \n",
      "min    1.136204e+07     0.000000          1.0  \n",
      "25%    2.359205e+07     0.000000          1.0  \n",
      "50%    3.064771e+07     0.000000          1.0  \n",
      "75%    4.100487e+07     0.000000          1.0  \n",
      "max    1.622063e+08     0.820000          1.0  \n"
     ]
    }
   ],
   "source": [
    "print(data.describe())"
   ]
  },
  {
   "cell_type": "code",
   "execution_count": 5,
   "id": "8f875725",
   "metadata": {
    "ExecuteTime": {
     "end_time": "2023-03-19T21:42:18.711254Z",
     "start_time": "2023-03-19T21:42:18.656440Z"
    }
   },
   "outputs": [
    {
     "data": {
      "text/html": [
       "<div>\n",
       "<style scoped>\n",
       "    .dataframe tbody tr th:only-of-type {\n",
       "        vertical-align: middle;\n",
       "    }\n",
       "\n",
       "    .dataframe tbody tr th {\n",
       "        vertical-align: top;\n",
       "    }\n",
       "\n",
       "    .dataframe thead th {\n",
       "        text-align: right;\n",
       "    }\n",
       "</style>\n",
       "<table border=\"1\" class=\"dataframe\">\n",
       "  <thead>\n",
       "    <tr style=\"text-align: right;\">\n",
       "      <th></th>\n",
       "      <th>Unnamed: 0</th>\n",
       "      <th>date</th>\n",
       "      <th>close</th>\n",
       "      <th>high</th>\n",
       "      <th>low</th>\n",
       "      <th>open</th>\n",
       "      <th>volume</th>\n",
       "      <th>adjClose</th>\n",
       "      <th>adjHigh</th>\n",
       "      <th>adjLow</th>\n",
       "      <th>adjOpen</th>\n",
       "      <th>adjVolume</th>\n",
       "      <th>divCash</th>\n",
       "      <th>splitFactor</th>\n",
       "    </tr>\n",
       "    <tr>\n",
       "      <th>symbol</th>\n",
       "      <th></th>\n",
       "      <th></th>\n",
       "      <th></th>\n",
       "      <th></th>\n",
       "      <th></th>\n",
       "      <th></th>\n",
       "      <th></th>\n",
       "      <th></th>\n",
       "      <th></th>\n",
       "      <th></th>\n",
       "      <th></th>\n",
       "      <th></th>\n",
       "      <th></th>\n",
       "      <th></th>\n",
       "    </tr>\n",
       "  </thead>\n",
       "  <tbody>\n",
       "    <tr>\n",
       "      <th>AAPL</th>\n",
       "      <td>0</td>\n",
       "      <td>2015-05-27 00:00:00+00:00</td>\n",
       "      <td>132.045</td>\n",
       "      <td>132.260</td>\n",
       "      <td>130.05</td>\n",
       "      <td>130.34</td>\n",
       "      <td>45833246</td>\n",
       "      <td>121.682558</td>\n",
       "      <td>121.880685</td>\n",
       "      <td>119.844118</td>\n",
       "      <td>120.111360</td>\n",
       "      <td>45833246</td>\n",
       "      <td>0.0</td>\n",
       "      <td>1.0</td>\n",
       "    </tr>\n",
       "    <tr>\n",
       "      <th>AAPL</th>\n",
       "      <td>1</td>\n",
       "      <td>2015-05-28 00:00:00+00:00</td>\n",
       "      <td>131.780</td>\n",
       "      <td>131.950</td>\n",
       "      <td>131.10</td>\n",
       "      <td>131.86</td>\n",
       "      <td>30733309</td>\n",
       "      <td>121.438354</td>\n",
       "      <td>121.595013</td>\n",
       "      <td>120.811718</td>\n",
       "      <td>121.512076</td>\n",
       "      <td>30733309</td>\n",
       "      <td>0.0</td>\n",
       "      <td>1.0</td>\n",
       "    </tr>\n",
       "    <tr>\n",
       "      <th>AAPL</th>\n",
       "      <td>2</td>\n",
       "      <td>2015-05-29 00:00:00+00:00</td>\n",
       "      <td>130.280</td>\n",
       "      <td>131.450</td>\n",
       "      <td>129.90</td>\n",
       "      <td>131.23</td>\n",
       "      <td>50884452</td>\n",
       "      <td>120.056069</td>\n",
       "      <td>121.134251</td>\n",
       "      <td>119.705890</td>\n",
       "      <td>120.931516</td>\n",
       "      <td>50884452</td>\n",
       "      <td>0.0</td>\n",
       "      <td>1.0</td>\n",
       "    </tr>\n",
       "    <tr>\n",
       "      <th>AAPL</th>\n",
       "      <td>3</td>\n",
       "      <td>2015-06-01 00:00:00+00:00</td>\n",
       "      <td>130.535</td>\n",
       "      <td>131.390</td>\n",
       "      <td>130.05</td>\n",
       "      <td>131.20</td>\n",
       "      <td>32112797</td>\n",
       "      <td>120.291057</td>\n",
       "      <td>121.078960</td>\n",
       "      <td>119.844118</td>\n",
       "      <td>120.903870</td>\n",
       "      <td>32112797</td>\n",
       "      <td>0.0</td>\n",
       "      <td>1.0</td>\n",
       "    </tr>\n",
       "    <tr>\n",
       "      <th>AAPL</th>\n",
       "      <td>4</td>\n",
       "      <td>2015-06-02 00:00:00+00:00</td>\n",
       "      <td>129.960</td>\n",
       "      <td>130.655</td>\n",
       "      <td>129.32</td>\n",
       "      <td>129.86</td>\n",
       "      <td>33667627</td>\n",
       "      <td>119.761181</td>\n",
       "      <td>120.401640</td>\n",
       "      <td>119.171406</td>\n",
       "      <td>119.669029</td>\n",
       "      <td>33667627</td>\n",
       "      <td>0.0</td>\n",
       "      <td>1.0</td>\n",
       "    </tr>\n",
       "  </tbody>\n",
       "</table>\n",
       "</div>"
      ],
      "text/plain": [
       "        Unnamed: 0                      date    close     high     low  \\\n",
       "symbol                                                                   \n",
       "AAPL             0 2015-05-27 00:00:00+00:00  132.045  132.260  130.05   \n",
       "AAPL             1 2015-05-28 00:00:00+00:00  131.780  131.950  131.10   \n",
       "AAPL             2 2015-05-29 00:00:00+00:00  130.280  131.450  129.90   \n",
       "AAPL             3 2015-06-01 00:00:00+00:00  130.535  131.390  130.05   \n",
       "AAPL             4 2015-06-02 00:00:00+00:00  129.960  130.655  129.32   \n",
       "\n",
       "          open    volume    adjClose     adjHigh      adjLow     adjOpen  \\\n",
       "symbol                                                                     \n",
       "AAPL    130.34  45833246  121.682558  121.880685  119.844118  120.111360   \n",
       "AAPL    131.86  30733309  121.438354  121.595013  120.811718  121.512076   \n",
       "AAPL    131.23  50884452  120.056069  121.134251  119.705890  120.931516   \n",
       "AAPL    131.20  32112797  120.291057  121.078960  119.844118  120.903870   \n",
       "AAPL    129.86  33667627  119.761181  120.401640  119.171406  119.669029   \n",
       "\n",
       "        adjVolume  divCash  splitFactor  \n",
       "symbol                                   \n",
       "AAPL     45833246      0.0          1.0  \n",
       "AAPL     30733309      0.0          1.0  \n",
       "AAPL     50884452      0.0          1.0  \n",
       "AAPL     32112797      0.0          1.0  \n",
       "AAPL     33667627      0.0          1.0  "
      ]
     },
     "execution_count": 5,
     "metadata": {},
     "output_type": "execute_result"
    }
   ],
   "source": [
    "data.head() "
   ]
  },
  {
   "cell_type": "markdown",
   "id": "5c09ec3f",
   "metadata": {},
   "source": [
    "# Visualise the data"
   ]
  },
  {
   "cell_type": "code",
   "execution_count": 6,
   "id": "23e74d96",
   "metadata": {
    "ExecuteTime": {
     "end_time": "2023-03-19T21:42:20.078034Z",
     "start_time": "2023-03-19T21:42:18.711254Z"
    }
   },
   "outputs": [
    {
     "name": "stderr",
     "output_type": "stream",
     "text": [
      "C:\\Users\\Ibrahim-Lahlou\\anaconda3\\lib\\site-packages\\seaborn\\categorical.py:82: FutureWarning: iteritems is deprecated and will be removed in a future version. Use .items instead.\n",
      "  plot_data = [np.asarray(s, float) for k, s in iter_data]\n"
     ]
    },
    {
     "data": {
      "text/plain": [
       "<AxesSubplot: >"
      ]
     },
     "execution_count": 6,
     "metadata": {},
     "output_type": "execute_result"
    },
    {
     "data": {
      "image/png": "[encoded data removed]",
      "text/plain": [
       "<Figure size 432x288 with 1 Axes>"
      ]
     },
     "metadata": {
      "needs_background": "light"
     },
     "output_type": "display_data"
    }
   ],
   "source": [
    "import seaborn as sns\n",
    "import matplotlib.pyplot as plt\n",
    "\n",
    "# Verifying there's a correlation between close and open\n",
    "cols = [ 'close','open']\n",
    "sns.boxplot(data=data[cols])"
   ]
  },
  {
   "cell_type": "code",
   "execution_count": 7,
   "id": "17559780",
   "metadata": {
    "ExecuteTime": {
     "end_time": "2023-03-19T21:42:20.930276Z",
     "start_time": "2023-03-19T21:42:20.078034Z"
    }
   },
   "outputs": [
    {
     "data": {
      "image/png": "[encoded data removed]",
      "text/plain": [
       "<Figure size 648x432 with 1 Axes>"
      ]
     },
     "metadata": {
      "needs_background": "light"
     },
     "output_type": "display_data"
    }
   ],
   "source": [
    "ts=pd.read_csv(\n",
    "    'https://raw.githubusercontent.com/krishnaik06/Stock-MArket-Forecasting/master/AAPL.csv',\n",
    "    header=0,\n",
    "    index_col=2,\n",
    "    parse_dates=True)\n",
    "ts['close'].plot(figsize=(9,6))\n",
    "plt.show()"
   ]
  },
  {
   "cell_type": "markdown",
   "id": "4290e668",
   "metadata": {},
   "source": [
    ">La série à une tendance croissante avec des fluctuations a cours du temps"
   ]
  },
  {
   "cell_type": "code",
   "execution_count": 8,
   "id": "e7e253fb",
   "metadata": {
    "ExecuteTime": {
     "end_time": "2023-03-19T21:42:21.143645Z",
     "start_time": "2023-03-19T21:42:20.930276Z"
    },
    "scrolled": true
   },
   "outputs": [
    {
     "data": {
      "image/png": "[encoded data removed]",
      "text/plain": [
       "<Figure size 648x432 with 1 Axes>"
      ]
     },
     "metadata": {
      "needs_background": "light"
     },
     "output_type": "display_data"
    }
   ],
   "source": [
    "# Resample weekly the time series\n",
    "rwts = ts.close.resample('W').mean()\n",
    "rwts.plot(figsize=(9,6))\n",
    "plt.show()"
   ]
  },
  {
   "cell_type": "code",
   "execution_count": 9,
   "id": "41fc55b4",
   "metadata": {
    "ExecuteTime": {
     "end_time": "2023-03-19T21:42:21.404744Z",
     "start_time": "2023-03-19T21:42:21.143645Z"
    }
   },
   "outputs": [
    {
     "data": {
      "image/png": "[encoded data removed]",
      "text/plain": [
       "<Figure size 648x432 with 1 Axes>"
      ]
     },
     "metadata": {
      "needs_background": "light"
     },
     "output_type": "display_data"
    }
   ],
   "source": [
    "# Resample monthly the time series\n",
    "rmts = ts.close.resample('M').mean()\n",
    "rmts.plot(figsize=(9,6))\n",
    "plt.show()"
   ]
  },
  {
   "cell_type": "markdown",
   "id": "a179b32d",
   "metadata": {
    "ExecuteTime": {
     "end_time": "2023-03-19T14:30:05.690219Z",
     "start_time": "2023-03-19T14:30:05.664208Z"
    }
   },
   "source": [
    ">La série ne doit pas étre compresser pour le traitement d'un Réseau de neurone réccurent"
   ]
  },
  {
   "cell_type": "markdown",
   "id": "3ff75817",
   "metadata": {
    "ExecuteTime": {
     "end_time": "2023-03-19T14:31:16.632515Z",
     "start_time": "2023-03-19T14:31:16.622436Z"
    }
   },
   "source": [
    "# Feature Learning"
   ]
  },
  {
   "cell_type": "markdown",
   "id": "abb106c9",
   "metadata": {},
   "source": [
    "## Feature Extraction"
   ]
  },
  {
   "cell_type": "code",
   "execution_count": 10,
   "id": "34447d67",
   "metadata": {
    "ExecuteTime": {
     "end_time": "2023-03-19T21:42:21.435879Z",
     "start_time": "2023-03-19T21:42:21.404744Z"
    }
   },
   "outputs": [
    {
     "data": {
      "text/html": [
       "<div>\n",
       "<style scoped>\n",
       "    .dataframe tbody tr th:only-of-type {\n",
       "        vertical-align: middle;\n",
       "    }\n",
       "\n",
       "    .dataframe tbody tr th {\n",
       "        vertical-align: top;\n",
       "    }\n",
       "\n",
       "    .dataframe thead th {\n",
       "        text-align: right;\n",
       "    }\n",
       "</style>\n",
       "<table border=\"1\" class=\"dataframe\">\n",
       "  <thead>\n",
       "    <tr style=\"text-align: right;\">\n",
       "      <th></th>\n",
       "      <th>date</th>\n",
       "      <th>close</th>\n",
       "    </tr>\n",
       "    <tr>\n",
       "      <th>symbol</th>\n",
       "      <th></th>\n",
       "      <th></th>\n",
       "    </tr>\n",
       "  </thead>\n",
       "  <tbody>\n",
       "    <tr>\n",
       "      <th>AAPL</th>\n",
       "      <td>2015-05-27 00:00:00+00:00</td>\n",
       "      <td>132.045</td>\n",
       "    </tr>\n",
       "    <tr>\n",
       "      <th>AAPL</th>\n",
       "      <td>2015-05-28 00:00:00+00:00</td>\n",
       "      <td>131.780</td>\n",
       "    </tr>\n",
       "    <tr>\n",
       "      <th>AAPL</th>\n",
       "      <td>2015-05-29 00:00:00+00:00</td>\n",
       "      <td>130.280</td>\n",
       "    </tr>\n",
       "    <tr>\n",
       "      <th>AAPL</th>\n",
       "      <td>2015-06-01 00:00:00+00:00</td>\n",
       "      <td>130.535</td>\n",
       "    </tr>\n",
       "    <tr>\n",
       "      <th>AAPL</th>\n",
       "      <td>2015-06-02 00:00:00+00:00</td>\n",
       "      <td>129.960</td>\n",
       "    </tr>\n",
       "    <tr>\n",
       "      <th>...</th>\n",
       "      <td>...</td>\n",
       "      <td>...</td>\n",
       "    </tr>\n",
       "    <tr>\n",
       "      <th>AAPL</th>\n",
       "      <td>2020-05-18 00:00:00+00:00</td>\n",
       "      <td>314.960</td>\n",
       "    </tr>\n",
       "    <tr>\n",
       "      <th>AAPL</th>\n",
       "      <td>2020-05-19 00:00:00+00:00</td>\n",
       "      <td>313.140</td>\n",
       "    </tr>\n",
       "    <tr>\n",
       "      <th>AAPL</th>\n",
       "      <td>2020-05-20 00:00:00+00:00</td>\n",
       "      <td>319.230</td>\n",
       "    </tr>\n",
       "    <tr>\n",
       "      <th>AAPL</th>\n",
       "      <td>2020-05-21 00:00:00+00:00</td>\n",
       "      <td>316.850</td>\n",
       "    </tr>\n",
       "    <tr>\n",
       "      <th>AAPL</th>\n",
       "      <td>2020-05-22 00:00:00+00:00</td>\n",
       "      <td>318.890</td>\n",
       "    </tr>\n",
       "  </tbody>\n",
       "</table>\n",
       "<p>1258 rows × 2 columns</p>\n",
       "</div>"
      ],
      "text/plain": [
       "                            date    close\n",
       "symbol                                   \n",
       "AAPL   2015-05-27 00:00:00+00:00  132.045\n",
       "AAPL   2015-05-28 00:00:00+00:00  131.780\n",
       "AAPL   2015-05-29 00:00:00+00:00  130.280\n",
       "AAPL   2015-06-01 00:00:00+00:00  130.535\n",
       "AAPL   2015-06-02 00:00:00+00:00  129.960\n",
       "...                          ...      ...\n",
       "AAPL   2020-05-18 00:00:00+00:00  314.960\n",
       "AAPL   2020-05-19 00:00:00+00:00  313.140\n",
       "AAPL   2020-05-20 00:00:00+00:00  319.230\n",
       "AAPL   2020-05-21 00:00:00+00:00  316.850\n",
       "AAPL   2020-05-22 00:00:00+00:00  318.890\n",
       "\n",
       "[1258 rows x 2 columns]"
      ]
     },
     "execution_count": 10,
     "metadata": {},
     "output_type": "execute_result"
    }
   ],
   "source": [
    "ts = data[['date','close']]\n",
    "ts"
   ]
  },
  {
   "cell_type": "code",
   "execution_count": 11,
   "id": "92c4ec90",
   "metadata": {
    "ExecuteTime": {
     "end_time": "2023-03-19T21:42:21.451358Z",
     "start_time": "2023-03-19T21:42:21.436994Z"
    }
   },
   "outputs": [
    {
     "data": {
      "text/plain": [
       "pandas._libs.tslibs.timestamps.Timestamp"
      ]
     },
     "execution_count": 11,
     "metadata": {},
     "output_type": "execute_result"
    }
   ],
   "source": [
    "type(ts['date'][0])"
   ]
  },
  {
   "cell_type": "markdown",
   "id": "8460c236",
   "metadata": {},
   "source": [
    "Pour spécifier que les dates/heure ne sont pas en temps universel (UTC) et que l'année doit être spécifiée en premier dans la chaîne de date on peut faire comme suit"
   ]
  },
  {
   "cell_type": "code",
   "execution_count": 12,
   "id": "ca632bf2",
   "metadata": {
    "ExecuteTime": {
     "end_time": "2023-03-19T21:42:21.488468Z",
     "start_time": "2023-03-19T21:42:21.454365Z"
    }
   },
   "outputs": [
    {
     "name": "stderr",
     "output_type": "stream",
     "text": [
      "C:\\Users\\IBRAHI~1\\AppData\\Local\\Temp/ipykernel_23904/2626721089.py:1: SettingWithCopyWarning: \n",
      "A value is trying to be set on a copy of a slice from a DataFrame.\n",
      "Try using .loc[row_indexer,col_indexer] = value instead\n",
      "\n",
      "See the caveats in the documentation: https://pandas.pydata.org/pandas-docs/stable/user_guide/indexing.html#returning-a-view-versus-a-copy\n",
      "  ts['date'] = pd.to_datetime(ts['date'],utc=False,yearfirst=True)\n"
     ]
    },
    {
     "data": {
      "text/html": [
       "<div>\n",
       "<style scoped>\n",
       "    .dataframe tbody tr th:only-of-type {\n",
       "        vertical-align: middle;\n",
       "    }\n",
       "\n",
       "    .dataframe tbody tr th {\n",
       "        vertical-align: top;\n",
       "    }\n",
       "\n",
       "    .dataframe thead th {\n",
       "        text-align: right;\n",
       "    }\n",
       "</style>\n",
       "<table border=\"1\" class=\"dataframe\">\n",
       "  <thead>\n",
       "    <tr style=\"text-align: right;\">\n",
       "      <th></th>\n",
       "      <th>date</th>\n",
       "      <th>close</th>\n",
       "    </tr>\n",
       "    <tr>\n",
       "      <th>symbol</th>\n",
       "      <th></th>\n",
       "      <th></th>\n",
       "    </tr>\n",
       "  </thead>\n",
       "  <tbody>\n",
       "    <tr>\n",
       "      <th>AAPL</th>\n",
       "      <td>2015-05-27 00:00:00+00:00</td>\n",
       "      <td>132.045</td>\n",
       "    </tr>\n",
       "    <tr>\n",
       "      <th>AAPL</th>\n",
       "      <td>2015-05-28 00:00:00+00:00</td>\n",
       "      <td>131.780</td>\n",
       "    </tr>\n",
       "    <tr>\n",
       "      <th>AAPL</th>\n",
       "      <td>2015-05-29 00:00:00+00:00</td>\n",
       "      <td>130.280</td>\n",
       "    </tr>\n",
       "    <tr>\n",
       "      <th>AAPL</th>\n",
       "      <td>2015-06-01 00:00:00+00:00</td>\n",
       "      <td>130.535</td>\n",
       "    </tr>\n",
       "    <tr>\n",
       "      <th>AAPL</th>\n",
       "      <td>2015-06-02 00:00:00+00:00</td>\n",
       "      <td>129.960</td>\n",
       "    </tr>\n",
       "    <tr>\n",
       "      <th>...</th>\n",
       "      <td>...</td>\n",
       "      <td>...</td>\n",
       "    </tr>\n",
       "    <tr>\n",
       "      <th>AAPL</th>\n",
       "      <td>2020-05-18 00:00:00+00:00</td>\n",
       "      <td>314.960</td>\n",
       "    </tr>\n",
       "    <tr>\n",
       "      <th>AAPL</th>\n",
       "      <td>2020-05-19 00:00:00+00:00</td>\n",
       "      <td>313.140</td>\n",
       "    </tr>\n",
       "    <tr>\n",
       "      <th>AAPL</th>\n",
       "      <td>2020-05-20 00:00:00+00:00</td>\n",
       "      <td>319.230</td>\n",
       "    </tr>\n",
       "    <tr>\n",
       "      <th>AAPL</th>\n",
       "      <td>2020-05-21 00:00:00+00:00</td>\n",
       "      <td>316.850</td>\n",
       "    </tr>\n",
       "    <tr>\n",
       "      <th>AAPL</th>\n",
       "      <td>2020-05-22 00:00:00+00:00</td>\n",
       "      <td>318.890</td>\n",
       "    </tr>\n",
       "  </tbody>\n",
       "</table>\n",
       "<p>1258 rows × 2 columns</p>\n",
       "</div>"
      ],
      "text/plain": [
       "                            date    close\n",
       "symbol                                   \n",
       "AAPL   2015-05-27 00:00:00+00:00  132.045\n",
       "AAPL   2015-05-28 00:00:00+00:00  131.780\n",
       "AAPL   2015-05-29 00:00:00+00:00  130.280\n",
       "AAPL   2015-06-01 00:00:00+00:00  130.535\n",
       "AAPL   2015-06-02 00:00:00+00:00  129.960\n",
       "...                          ...      ...\n",
       "AAPL   2020-05-18 00:00:00+00:00  314.960\n",
       "AAPL   2020-05-19 00:00:00+00:00  313.140\n",
       "AAPL   2020-05-20 00:00:00+00:00  319.230\n",
       "AAPL   2020-05-21 00:00:00+00:00  316.850\n",
       "AAPL   2020-05-22 00:00:00+00:00  318.890\n",
       "\n",
       "[1258 rows x 2 columns]"
      ]
     },
     "execution_count": 12,
     "metadata": {},
     "output_type": "execute_result"
    }
   ],
   "source": [
    "ts['date'] = pd.to_datetime(ts['date'],utc=False,yearfirst=True)\n",
    "ts"
   ]
  },
  {
   "cell_type": "code",
   "execution_count": 13,
   "id": "4d09ebe6",
   "metadata": {
    "ExecuteTime": {
     "end_time": "2023-03-19T21:42:21.503847Z",
     "start_time": "2023-03-19T21:42:21.489524Z"
    }
   },
   "outputs": [
    {
     "data": {
      "text/plain": [
       "Timestamp('2015-05-27 00:00:00+0000', tz='UTC')"
      ]
     },
     "execution_count": 13,
     "metadata": {},
     "output_type": "execute_result"
    }
   ],
   "source": [
    "ts['date'][0]"
   ]
  },
  {
   "cell_type": "code",
   "execution_count": 14,
   "id": "e45b5db3",
   "metadata": {
    "ExecuteTime": {
     "end_time": "2023-03-19T21:42:21.976824Z",
     "start_time": "2023-03-19T21:42:21.507828Z"
    }
   },
   "outputs": [
    {
     "data": {
      "application/vnd.jupyter.widget-view+json": {
       "model_id": "c6e2f22cb104474ba1684758aa3a817d",
       "version_major": 2,
       "version_minor": 0
      },
      "text/plain": [
       "  0%|          | 0/1258 [00:00<?, ?it/s]"
      ]
     },
     "metadata": {},
     "output_type": "display_data"
    }
   ],
   "source": [
    "# convert time to learnable feature \n",
    "from tqdm.notebook import tqdm\n",
    "from Script import feature_extraction\n",
    "\n",
    "fts = feature_extraction(ts)"
   ]
  },
  {
   "cell_type": "code",
   "execution_count": 15,
   "id": "0b039e5c",
   "metadata": {
    "ExecuteTime": {
     "end_time": "2023-03-19T21:42:22.007742Z",
     "start_time": "2023-03-19T21:42:21.976824Z"
    }
   },
   "outputs": [
    {
     "data": {
      "text/html": [
       "<div>\n",
       "<style scoped>\n",
       "    .dataframe tbody tr th:only-of-type {\n",
       "        vertical-align: middle;\n",
       "    }\n",
       "\n",
       "    .dataframe tbody tr th {\n",
       "        vertical-align: top;\n",
       "    }\n",
       "\n",
       "    .dataframe thead th {\n",
       "        text-align: right;\n",
       "    }\n",
       "</style>\n",
       "<table border=\"1\" class=\"dataframe\">\n",
       "  <thead>\n",
       "    <tr style=\"text-align: right;\">\n",
       "      <th></th>\n",
       "      <th>year</th>\n",
       "      <th>month</th>\n",
       "      <th>day</th>\n",
       "      <th>close</th>\n",
       "    </tr>\n",
       "  </thead>\n",
       "  <tbody>\n",
       "    <tr>\n",
       "      <th>0</th>\n",
       "      <td>2015</td>\n",
       "      <td>5</td>\n",
       "      <td>27</td>\n",
       "      <td>132.045</td>\n",
       "    </tr>\n",
       "    <tr>\n",
       "      <th>1</th>\n",
       "      <td>2015</td>\n",
       "      <td>5</td>\n",
       "      <td>28</td>\n",
       "      <td>131.780</td>\n",
       "    </tr>\n",
       "    <tr>\n",
       "      <th>2</th>\n",
       "      <td>2015</td>\n",
       "      <td>5</td>\n",
       "      <td>29</td>\n",
       "      <td>130.280</td>\n",
       "    </tr>\n",
       "    <tr>\n",
       "      <th>3</th>\n",
       "      <td>2015</td>\n",
       "      <td>6</td>\n",
       "      <td>1</td>\n",
       "      <td>130.535</td>\n",
       "    </tr>\n",
       "    <tr>\n",
       "      <th>4</th>\n",
       "      <td>2015</td>\n",
       "      <td>6</td>\n",
       "      <td>2</td>\n",
       "      <td>129.960</td>\n",
       "    </tr>\n",
       "    <tr>\n",
       "      <th>...</th>\n",
       "      <td>...</td>\n",
       "      <td>...</td>\n",
       "      <td>...</td>\n",
       "      <td>...</td>\n",
       "    </tr>\n",
       "    <tr>\n",
       "      <th>1253</th>\n",
       "      <td>2020</td>\n",
       "      <td>5</td>\n",
       "      <td>18</td>\n",
       "      <td>314.960</td>\n",
       "    </tr>\n",
       "    <tr>\n",
       "      <th>1254</th>\n",
       "      <td>2020</td>\n",
       "      <td>5</td>\n",
       "      <td>19</td>\n",
       "      <td>313.140</td>\n",
       "    </tr>\n",
       "    <tr>\n",
       "      <th>1255</th>\n",
       "      <td>2020</td>\n",
       "      <td>5</td>\n",
       "      <td>20</td>\n",
       "      <td>319.230</td>\n",
       "    </tr>\n",
       "    <tr>\n",
       "      <th>1256</th>\n",
       "      <td>2020</td>\n",
       "      <td>5</td>\n",
       "      <td>21</td>\n",
       "      <td>316.850</td>\n",
       "    </tr>\n",
       "    <tr>\n",
       "      <th>1257</th>\n",
       "      <td>2020</td>\n",
       "      <td>5</td>\n",
       "      <td>22</td>\n",
       "      <td>318.890</td>\n",
       "    </tr>\n",
       "  </tbody>\n",
       "</table>\n",
       "<p>1258 rows × 4 columns</p>\n",
       "</div>"
      ],
      "text/plain": [
       "      year  month  day    close\n",
       "0     2015      5   27  132.045\n",
       "1     2015      5   28  131.780\n",
       "2     2015      5   29  130.280\n",
       "3     2015      6    1  130.535\n",
       "4     2015      6    2  129.960\n",
       "...    ...    ...  ...      ...\n",
       "1253  2020      5   18  314.960\n",
       "1254  2020      5   19  313.140\n",
       "1255  2020      5   20  319.230\n",
       "1256  2020      5   21  316.850\n",
       "1257  2020      5   22  318.890\n",
       "\n",
       "[1258 rows x 4 columns]"
      ]
     },
     "execution_count": 15,
     "metadata": {},
     "output_type": "execute_result"
    }
   ],
   "source": [
    "fts"
   ]
  },
  {
   "cell_type": "markdown",
   "id": "5d0bf1df",
   "metadata": {},
   "source": [
    "## Split Data and Normalisation"
   ]
  },
  {
   "cell_type": "code",
   "execution_count": 16,
   "id": "f422f767",
   "metadata": {
    "ExecuteTime": {
     "end_time": "2023-03-19T21:42:22.103712Z",
     "start_time": "2023-03-19T21:42:22.010731Z"
    }
   },
   "outputs": [
    {
     "name": "stdout",
     "output_type": "stream",
     "text": [
      "train shape : (943, 4)\n",
      "test shape : (188, 4)\n",
      "validation data  (127, 4)\n"
     ]
    },
    {
     "data": {
      "text/html": [
       "<div>\n",
       "<style scoped>\n",
       "    .dataframe tbody tr th:only-of-type {\n",
       "        vertical-align: middle;\n",
       "    }\n",
       "\n",
       "    .dataframe tbody tr th {\n",
       "        vertical-align: top;\n",
       "    }\n",
       "\n",
       "    .dataframe thead th {\n",
       "        text-align: right;\n",
       "    }\n",
       "</style>\n",
       "<table border=\"1\" class=\"dataframe\">\n",
       "  <thead>\n",
       "    <tr style=\"text-align: right;\">\n",
       "      <th></th>\n",
       "      <th>year</th>\n",
       "      <th>month</th>\n",
       "      <th>day</th>\n",
       "      <th>close</th>\n",
       "    </tr>\n",
       "  </thead>\n",
       "  <tbody>\n",
       "    <tr>\n",
       "      <th>0</th>\n",
       "      <td>-1.0</td>\n",
       "      <td>-0.272727</td>\n",
       "      <td>0.733333</td>\n",
       "      <td>-0.411487</td>\n",
       "    </tr>\n",
       "    <tr>\n",
       "      <th>1</th>\n",
       "      <td>-1.0</td>\n",
       "      <td>-0.272727</td>\n",
       "      <td>0.800000</td>\n",
       "      <td>-0.415226</td>\n",
       "    </tr>\n",
       "    <tr>\n",
       "      <th>2</th>\n",
       "      <td>-1.0</td>\n",
       "      <td>-0.272727</td>\n",
       "      <td>0.866667</td>\n",
       "      <td>-0.436393</td>\n",
       "    </tr>\n",
       "    <tr>\n",
       "      <th>3</th>\n",
       "      <td>-1.0</td>\n",
       "      <td>-0.090909</td>\n",
       "      <td>-1.000000</td>\n",
       "      <td>-0.432795</td>\n",
       "    </tr>\n",
       "    <tr>\n",
       "      <th>4</th>\n",
       "      <td>-1.0</td>\n",
       "      <td>-0.090909</td>\n",
       "      <td>-0.933333</td>\n",
       "      <td>-0.440909</td>\n",
       "    </tr>\n",
       "    <tr>\n",
       "      <th>...</th>\n",
       "      <td>...</td>\n",
       "      <td>...</td>\n",
       "      <td>...</td>\n",
       "      <td>...</td>\n",
       "    </tr>\n",
       "    <tr>\n",
       "      <th>938</th>\n",
       "      <td>1.0</td>\n",
       "      <td>-0.818182</td>\n",
       "      <td>-0.066667</td>\n",
       "      <td>0.130036</td>\n",
       "    </tr>\n",
       "    <tr>\n",
       "      <th>939</th>\n",
       "      <td>1.0</td>\n",
       "      <td>-0.818182</td>\n",
       "      <td>0.200000</td>\n",
       "      <td>0.137233</td>\n",
       "    </tr>\n",
       "    <tr>\n",
       "      <th>940</th>\n",
       "      <td>1.0</td>\n",
       "      <td>-0.818182</td>\n",
       "      <td>0.266667</td>\n",
       "      <td>0.152755</td>\n",
       "    </tr>\n",
       "    <tr>\n",
       "      <th>941</th>\n",
       "      <td>1.0</td>\n",
       "      <td>-0.818182</td>\n",
       "      <td>0.333333</td>\n",
       "      <td>0.139067</td>\n",
       "    </tr>\n",
       "    <tr>\n",
       "      <th>942</th>\n",
       "      <td>1.0</td>\n",
       "      <td>-0.818182</td>\n",
       "      <td>0.400000</td>\n",
       "      <td>0.166020</td>\n",
       "    </tr>\n",
       "  </tbody>\n",
       "</table>\n",
       "<p>943 rows × 4 columns</p>\n",
       "</div>"
      ],
      "text/plain": [
       "     year     month       day     close\n",
       "0    -1.0 -0.272727  0.733333 -0.411487\n",
       "1    -1.0 -0.272727  0.800000 -0.415226\n",
       "2    -1.0 -0.272727  0.866667 -0.436393\n",
       "3    -1.0 -0.090909 -1.000000 -0.432795\n",
       "4    -1.0 -0.090909 -0.933333 -0.440909\n",
       "..    ...       ...       ...       ...\n",
       "938   1.0 -0.818182 -0.066667  0.130036\n",
       "939   1.0 -0.818182  0.200000  0.137233\n",
       "940   1.0 -0.818182  0.266667  0.152755\n",
       "941   1.0 -0.818182  0.333333  0.139067\n",
       "942   1.0 -0.818182  0.400000  0.166020\n",
       "\n",
       "[943 rows x 4 columns]"
      ]
     },
     "execution_count": 16,
     "metadata": {},
     "output_type": "execute_result"
    }
   ],
   "source": [
    "\n",
    "from Script import split_transform\n",
    "\n",
    "train,test,valid,Scaler = split_transform(fts)\n",
    "train"
   ]
  },
  {
   "cell_type": "code",
   "execution_count": 17,
   "id": "282a5556",
   "metadata": {
    "ExecuteTime": {
     "end_time": "2023-03-19T21:42:22.135092Z",
     "start_time": "2023-03-19T21:42:22.105716Z"
    }
   },
   "outputs": [
    {
     "data": {
      "text/html": [
       "<div>\n",
       "<style scoped>\n",
       "    .dataframe tbody tr th:only-of-type {\n",
       "        vertical-align: middle;\n",
       "    }\n",
       "\n",
       "    .dataframe tbody tr th {\n",
       "        vertical-align: top;\n",
       "    }\n",
       "\n",
       "    .dataframe thead th {\n",
       "        text-align: right;\n",
       "    }\n",
       "</style>\n",
       "<table border=\"1\" class=\"dataframe\">\n",
       "  <thead>\n",
       "    <tr style=\"text-align: right;\">\n",
       "      <th></th>\n",
       "      <th>year</th>\n",
       "      <th>month</th>\n",
       "      <th>day</th>\n",
       "      <th>close</th>\n",
       "    </tr>\n",
       "  </thead>\n",
       "  <tbody>\n",
       "    <tr>\n",
       "      <th>943</th>\n",
       "      <td>-1.0</td>\n",
       "      <td>-1.000000</td>\n",
       "      <td>0.600000</td>\n",
       "      <td>-0.963425</td>\n",
       "    </tr>\n",
       "    <tr>\n",
       "      <th>944</th>\n",
       "      <td>-1.0</td>\n",
       "      <td>-1.000000</td>\n",
       "      <td>0.666667</td>\n",
       "      <td>-0.961311</td>\n",
       "    </tr>\n",
       "    <tr>\n",
       "      <th>945</th>\n",
       "      <td>-1.0</td>\n",
       "      <td>-1.000000</td>\n",
       "      <td>0.733333</td>\n",
       "      <td>-0.949894</td>\n",
       "    </tr>\n",
       "    <tr>\n",
       "      <th>946</th>\n",
       "      <td>-1.0</td>\n",
       "      <td>-1.000000</td>\n",
       "      <td>0.800000</td>\n",
       "      <td>-0.986258</td>\n",
       "    </tr>\n",
       "    <tr>\n",
       "      <th>947</th>\n",
       "      <td>-1.0</td>\n",
       "      <td>-0.777778</td>\n",
       "      <td>-1.000000</td>\n",
       "      <td>-0.947780</td>\n",
       "    </tr>\n",
       "    <tr>\n",
       "      <th>...</th>\n",
       "      <td>...</td>\n",
       "      <td>...</td>\n",
       "      <td>...</td>\n",
       "      <td>...</td>\n",
       "    </tr>\n",
       "    <tr>\n",
       "      <th>1126</th>\n",
       "      <td>-1.0</td>\n",
       "      <td>1.000000</td>\n",
       "      <td>-0.200000</td>\n",
       "      <td>0.944397</td>\n",
       "    </tr>\n",
       "    <tr>\n",
       "      <th>1127</th>\n",
       "      <td>-1.0</td>\n",
       "      <td>1.000000</td>\n",
       "      <td>-0.133333</td>\n",
       "      <td>0.905708</td>\n",
       "    </tr>\n",
       "    <tr>\n",
       "      <th>1128</th>\n",
       "      <td>-1.0</td>\n",
       "      <td>1.000000</td>\n",
       "      <td>-0.066667</td>\n",
       "      <td>0.971670</td>\n",
       "    </tr>\n",
       "    <tr>\n",
       "      <th>1129</th>\n",
       "      <td>-1.0</td>\n",
       "      <td>1.000000</td>\n",
       "      <td>0.133333</td>\n",
       "      <td>1.000000</td>\n",
       "    </tr>\n",
       "    <tr>\n",
       "      <th>1130</th>\n",
       "      <td>-1.0</td>\n",
       "      <td>1.000000</td>\n",
       "      <td>0.200000</td>\n",
       "      <td>0.982875</td>\n",
       "    </tr>\n",
       "  </tbody>\n",
       "</table>\n",
       "<p>188 rows × 4 columns</p>\n",
       "</div>"
      ],
      "text/plain": [
       "      year     month       day     close\n",
       "943   -1.0 -1.000000  0.600000 -0.963425\n",
       "944   -1.0 -1.000000  0.666667 -0.961311\n",
       "945   -1.0 -1.000000  0.733333 -0.949894\n",
       "946   -1.0 -1.000000  0.800000 -0.986258\n",
       "947   -1.0 -0.777778 -1.000000 -0.947780\n",
       "...    ...       ...       ...       ...\n",
       "1126  -1.0  1.000000 -0.200000  0.944397\n",
       "1127  -1.0  1.000000 -0.133333  0.905708\n",
       "1128  -1.0  1.000000 -0.066667  0.971670\n",
       "1129  -1.0  1.000000  0.133333  1.000000\n",
       "1130  -1.0  1.000000  0.200000  0.982875\n",
       "\n",
       "[188 rows x 4 columns]"
      ]
     },
     "execution_count": 17,
     "metadata": {},
     "output_type": "execute_result"
    }
   ],
   "source": [
    "test"
   ]
  },
  {
   "cell_type": "markdown",
   "id": "3203e0e7",
   "metadata": {},
   "source": [
    "## Creating Sequence"
   ]
  },
  {
   "cell_type": "code",
   "execution_count": 18,
   "id": "16dfe2f3",
   "metadata": {
    "ExecuteTime": {
     "end_time": "2023-03-19T21:42:22.416423Z",
     "start_time": "2023-03-19T21:42:22.138101Z"
    }
   },
   "outputs": [
    {
     "data": {
      "application/vnd.jupyter.widget-view+json": {
       "model_id": "78d6f0a9ac90470aafb58bd9285e24de",
       "version_major": 2,
       "version_minor": 0
      },
      "text/plain": [
       "  0%|          | 0/933 [00:00<?, ?it/s]"
      ]
     },
     "metadata": {},
     "output_type": "display_data"
    },
    {
     "data": {
      "application/vnd.jupyter.widget-view+json": {
       "model_id": "1d187b88a03d41a8b13af1cf3cce808d",
       "version_major": 2,
       "version_minor": 0
      },
      "text/plain": [
       "  0%|          | 0/178 [00:00<?, ?it/s]"
      ]
     },
     "metadata": {},
     "output_type": "display_data"
    },
    {
     "data": {
      "application/vnd.jupyter.widget-view+json": {
       "model_id": "0995df0a6377480c9b9c8da1a2e3661c",
       "version_major": 2,
       "version_minor": 0
      },
      "text/plain": [
       "  0%|          | 0/117 [00:00<?, ?it/s]"
      ]
     },
     "metadata": {},
     "output_type": "display_data"
    }
   ],
   "source": [
    "from Script import create_sequences\n",
    "\n",
    "train_seq = create_sequences(train,10)\n",
    "test_seq = create_sequences(test,10)\n",
    "valid_seq = create_sequences(valid,10)"
   ]
  },
  {
   "cell_type": "code",
   "execution_count": 19,
   "id": "4e2c7a09",
   "metadata": {
    "ExecuteTime": {
     "end_time": "2023-03-19T21:42:22.450668Z",
     "start_time": "2023-03-19T21:42:22.419239Z"
    }
   },
   "outputs": [
    {
     "data": {
      "text/plain": [
       "[(     year     month       day     close\n",
       "  931   1.0 -0.818182 -0.666667  0.183941\n",
       "  932   1.0 -0.818182 -0.600000  0.137374\n",
       "  933   1.0 -0.818182 -0.533333  0.129895\n",
       "  934   1.0 -0.818182 -0.333333  0.116066\n",
       "  935   1.0 -0.818182 -0.266667  0.136668\n",
       "  936   1.0 -0.818182 -0.200000  0.126649\n",
       "  937   1.0 -0.818182 -0.133333  0.135398\n",
       "  938   1.0 -0.818182 -0.066667  0.130036\n",
       "  939   1.0 -0.818182  0.200000  0.137233\n",
       "  940   1.0 -0.818182  0.266667  0.152755,\n",
       "  0.1390672405277642),\n",
       " (     year     month       day     close\n",
       "  932   1.0 -0.818182 -0.600000  0.137374\n",
       "  933   1.0 -0.818182 -0.533333  0.129895\n",
       "  934   1.0 -0.818182 -0.333333  0.116066\n",
       "  935   1.0 -0.818182 -0.266667  0.136668\n",
       "  936   1.0 -0.818182 -0.200000  0.126649\n",
       "  937   1.0 -0.818182 -0.133333  0.135398\n",
       "  938   1.0 -0.818182 -0.066667  0.130036\n",
       "  939   1.0 -0.818182  0.200000  0.137233\n",
       "  940   1.0 -0.818182  0.266667  0.152755\n",
       "  941   1.0 -0.818182  0.333333  0.139067,\n",
       "  0.1660198969872293)]"
      ]
     },
     "execution_count": 19,
     "metadata": {},
     "output_type": "execute_result"
    }
   ],
   "source": [
    "train_seq[len(train_seq)-2:]"
   ]
  },
  {
   "cell_type": "code",
   "execution_count": 20,
   "id": "fc049df9",
   "metadata": {
    "ExecuteTime": {
     "end_time": "2023-03-19T21:42:22.466749Z",
     "start_time": "2023-03-19T21:42:22.453671Z"
    }
   },
   "outputs": [
    {
     "data": {
      "text/plain": [
       "(933, 178)"
      ]
     },
     "execution_count": 20,
     "metadata": {},
     "output_type": "execute_result"
    }
   ],
   "source": [
    "len(train_seq),len(test_seq)"
   ]
  },
  {
   "cell_type": "markdown",
   "id": "42672ad1",
   "metadata": {},
   "source": [
    "## Creating Sequence Classes"
   ]
  },
  {
   "cell_type": "code",
   "execution_count": 21,
   "id": "666a83e6",
   "metadata": {
    "ExecuteTime": {
     "end_time": "2023-03-19T21:42:26.744230Z",
     "start_time": "2023-03-19T21:42:22.468759Z"
    }
   },
   "outputs": [],
   "source": [
    "from PytorchScript import SequenceDataset,SalesDataset"
   ]
  },
  {
   "cell_type": "code",
   "execution_count": 22,
   "id": "2f3dba71",
   "metadata": {
    "ExecuteTime": {
     "end_time": "2023-03-19T21:42:26.759829Z",
     "start_time": "2023-03-19T21:42:26.744230Z"
    }
   },
   "outputs": [],
   "source": [
    "Data_module = SalesDataset(train_seq,test_seq)\n",
    "Data_module.setup()\n",
    "train_data = Data_module.train_dataloader()\n",
    "test_data = Data_module.test_dataloader()"
   ]
  },
  {
   "cell_type": "code",
   "execution_count": 23,
   "id": "4f31a01d",
   "metadata": {
    "ExecuteTime": {
     "end_time": "2023-03-19T21:42:26.905267Z",
     "start_time": "2023-03-19T21:42:26.759829Z"
    }
   },
   "outputs": [
    {
     "data": {
      "text/plain": [
       "{'sequence': tensor([[-1.0000, -0.2727,  0.7333, -0.4115],\n",
       "         [-1.0000, -0.2727,  0.8000, -0.4152],\n",
       "         [-1.0000, -0.2727,  0.8667, -0.4364],\n",
       "         [-1.0000, -0.0909, -1.0000, -0.4328],\n",
       "         [-1.0000, -0.0909, -0.9333, -0.4409],\n",
       "         [-1.0000, -0.0909, -0.8667, -0.4387],\n",
       "         [-1.0000, -0.0909, -0.8000, -0.4494],\n",
       "         [-1.0000, -0.0909, -0.7333, -0.4594],\n",
       "         [-1.0000, -0.0909, -0.5333, -0.4714],\n",
       "         [-1.0000, -0.0909, -0.4667, -0.4768]]),\n",
       " 'label': tensor(-0.4561)}"
      ]
     },
     "execution_count": 23,
     "metadata": {},
     "output_type": "execute_result"
    }
   ],
   "source": [
    "train_seq_ds = SequenceDataset(train_seq)\n",
    "train_seq_ds[0]"
   ]
  },
  {
   "cell_type": "code",
   "execution_count": 24,
   "id": "fab4179a",
   "metadata": {
    "ExecuteTime": {
     "end_time": "2023-03-19T21:42:26.936443Z",
     "start_time": "2023-03-19T21:42:26.905267Z"
    }
   },
   "outputs": [
    {
     "data": {
      "text/plain": [
       "(10, 4)"
      ]
     },
     "execution_count": 24,
     "metadata": {},
     "output_type": "execute_result"
    }
   ],
   "source": [
    "# explore input dimensions \n",
    "input_dim,n_features = train_seq_ds[0][\"sequence\"].shape \n",
    "input_dim,n_features"
   ]
  },
  {
   "cell_type": "markdown",
   "id": "9c14df59",
   "metadata": {},
   "source": [
    "# RNN's Architecture"
   ]
  },
  {
   "cell_type": "code",
   "execution_count": 25,
   "id": "3b08e4e9",
   "metadata": {
    "ExecuteTime": {
     "end_time": "2023-03-19T21:42:26.954305Z",
     "start_time": "2023-03-19T21:42:26.938976Z"
    }
   },
   "outputs": [],
   "source": [
    "from torch import nn\n",
    "\n",
    "class RNNModel(nn.Module):\n",
    "  def __init__(self, input_dim=n_features, hidden_dim=4, layer_dim=2, output_dim=1):\n",
    "    super(RNNModel, self).__init__()\n",
    "    # Defining the number of layers and the nodes in each layer\n",
    "    self.hidden_dim = hidden_dim\n",
    "    self.layer_dim = layer_dim\n",
    "    # RNN layers\n",
    "    self.rnn = nn.RNN(\n",
    "        input_size = input_dim, hidden_size=hidden_dim, num_layers = layer_dim, batch_first=True\n",
    "    )\n",
    "    # Fully connected layer\n",
    "    self.fc = nn.Linear(hidden_dim, output_dim)\n",
    "  \n",
    "  def forward(self, x):\n",
    "      # Initializing hidden state for first input with zeros\n",
    "      h0 = torch.zeros(self.layer_dim, x.size(0), self.hidden_dim).requires_grad_()\n",
    "      # Forward propagation by passing in the input and hidden state into the model\n",
    "      out, h0 = self.rnn(x, h0.detach())\n",
    "      # Reshaping the outputs in the shape of (batch_size, seq_length, hidden_size)\n",
    "      # so that it can fit into the fully connected layer\n",
    "      out = out[:, -1, :]\n",
    "      # return the final state to our desired output shape (batch_size, output_dim)\n",
    "      return self.fc(out)"
   ]
  },
  {
   "cell_type": "code",
   "execution_count": 26,
   "id": "676c09b0",
   "metadata": {
    "ExecuteTime": {
     "end_time": "2023-03-19T21:42:26.993847Z",
     "start_time": "2023-03-19T21:42:26.958316Z"
    }
   },
   "outputs": [
    {
     "name": "stdout",
     "output_type": "stream",
     "text": [
      "torch.Size([1, 10, 4])\n",
      "torch.Size([1])\n"
     ]
    }
   ],
   "source": [
    "for batch in train_data : \n",
    "  print(batch[\"sequence\"].shape)\n",
    "  print(batch[\"label\"].shape)\n",
    "  break"
   ]
  },
  {
   "cell_type": "code",
   "execution_count": 27,
   "id": "65e09cba",
   "metadata": {
    "ExecuteTime": {
     "end_time": "2023-03-19T21:42:27.009962Z",
     "start_time": "2023-03-19T21:42:26.993847Z"
    }
   },
   "outputs": [
    {
     "data": {
      "text/plain": [
       "933"
      ]
     },
     "execution_count": 27,
     "metadata": {},
     "output_type": "execute_result"
    }
   ],
   "source": [
    "len(train_data)"
   ]
  },
  {
   "cell_type": "markdown",
   "id": "98e904cf",
   "metadata": {},
   "source": [
    "# Model Training"
   ]
  },
  {
   "cell_type": "code",
   "execution_count": 28,
   "id": "40639cdb",
   "metadata": {
    "ExecuteTime": {
     "end_time": "2023-03-19T21:42:27.025965Z",
     "start_time": "2023-03-19T21:42:27.012968Z"
    }
   },
   "outputs": [],
   "source": [
    "import torch.optim as optim\n",
    "from PytorchScript import RMSELoss,SalesPredictions\n",
    "import torch\n",
    "\n",
    "Model = RNNModel()\n",
    "#1 tuning hyperparamaters\n",
    "lr = 0.001\n",
    "epochs = 40\n",
    "optimizer = optim.SGD(Model.parameters(), lr=lr)\n",
    "criterion = RMSELoss()"
   ]
  },
  {
   "cell_type": "code",
   "execution_count": 29,
   "id": "11e70bd4",
   "metadata": {
    "ExecuteTime": {
     "end_time": "2023-03-19T21:44:56.548291Z",
     "start_time": "2023-03-19T21:42:27.029967Z"
    }
   },
   "outputs": [
    {
     "name": "stdout",
     "output_type": "stream",
     "text": [
      "***training for RMSE loss function and SGD optimisation***\n"
     ]
    },
    {
     "data": {
      "application/vnd.jupyter.widget-view+json": {
       "model_id": "7526240ee9bb43178cb3fa1b38ca413e",
       "version_major": 2,
       "version_minor": 0
      },
      "text/plain": [
       "  0%|          | 0/40 [00:00<?, ?it/s]"
      ]
     },
     "metadata": {},
     "output_type": "display_data"
    },
    {
     "name": "stderr",
     "output_type": "stream",
     "text": [
      "C:\\Users\\Ibrahim-Lahlou\\anaconda3\\lib\\site-packages\\torch\\nn\\modules\\loss.py:536: UserWarning: Using a target size (torch.Size([1])) that is different to the input size (torch.Size([1, 1])). This will likely lead to incorrect results due to broadcasting. Please ensure they have the same size.\n",
      "  return F.mse_loss(input, target, reduction=self.reduction)\n"
     ]
    },
    {
     "name": "stdout",
     "output_type": "stream",
     "text": [
      "Epoch 1/40, Train Loss: 0.3985, Test Loss: 0.6672\n",
      "Epoch 2/40, Train Loss: 0.3276, Test Loss: 0.6558\n",
      "Epoch 3/40, Train Loss: 0.3215, Test Loss: 0.6502\n",
      "Epoch 4/40, Train Loss: 0.3187, Test Loss: 0.6446\n",
      "Epoch 5/40, Train Loss: 0.3146, Test Loss: 0.6421\n",
      "Epoch 6/40, Train Loss: 0.3119, Test Loss: 0.6426\n",
      "Epoch 7/40, Train Loss: 0.3113, Test Loss: 0.6423\n",
      "Epoch 8/40, Train Loss: 0.3096, Test Loss: 0.6410\n",
      "Epoch 9/40, Train Loss: 0.3064, Test Loss: 0.6429\n",
      "Epoch 10/40, Train Loss: 0.3060, Test Loss: 0.6436\n",
      "Epoch 11/40, Train Loss: 0.3042, Test Loss: 0.6393\n",
      "Epoch 12/40, Train Loss: 0.3002, Test Loss: 0.6383\n",
      "Epoch 13/40, Train Loss: 0.2970, Test Loss: 0.6404\n",
      "Epoch 14/40, Train Loss: 0.2959, Test Loss: 0.6361\n",
      "Epoch 15/40, Train Loss: 0.2913, Test Loss: 0.6345\n",
      "Epoch 16/40, Train Loss: 0.2869, Test Loss: 0.6351\n",
      "Epoch 17/40, Train Loss: 0.2845, Test Loss: 0.6286\n",
      "Epoch 18/40, Train Loss: 0.2770, Test Loss: 0.6230\n",
      "Epoch 19/40, Train Loss: 0.2701, Test Loss: 0.5994\n",
      "Epoch 20/40, Train Loss: 0.2534, Test Loss: 0.5692\n",
      "Epoch 21/40, Train Loss: 0.2313, Test Loss: 0.5265\n",
      "Epoch 22/40, Train Loss: 0.2019, Test Loss: 0.4587\n",
      "Epoch 23/40, Train Loss: 0.1626, Test Loss: 0.3861\n",
      "Epoch 24/40, Train Loss: 0.1255, Test Loss: 0.3211\n",
      "Epoch 25/40, Train Loss: 0.0993, Test Loss: 0.2807\n",
      "Epoch 26/40, Train Loss: 0.0803, Test Loss: 0.2643\n",
      "Epoch 27/40, Train Loss: 0.0702, Test Loss: 0.2568\n",
      "Epoch 28/40, Train Loss: 0.0640, Test Loss: 0.2496\n",
      "Epoch 29/40, Train Loss: 0.0593, Test Loss: 0.2470\n",
      "Epoch 30/40, Train Loss: 0.0549, Test Loss: 0.2436\n",
      "Epoch 31/40, Train Loss: 0.0517, Test Loss: 0.2394\n",
      "Epoch 32/40, Train Loss: 0.0492, Test Loss: 0.2377\n",
      "Epoch 33/40, Train Loss: 0.0472, Test Loss: 0.2313\n",
      "Epoch 34/40, Train Loss: 0.0461, Test Loss: 0.2254\n",
      "Epoch 35/40, Train Loss: 0.0442, Test Loss: 0.2196\n",
      "Epoch 36/40, Train Loss: 0.0440, Test Loss: 0.2076\n",
      "Epoch 37/40, Train Loss: 0.0425, Test Loss: 0.1979\n",
      "Epoch 38/40, Train Loss: 0.0414, Test Loss: 0.1913\n",
      "Epoch 39/40, Train Loss: 0.0404, Test Loss: 0.1860\n",
      "Epoch 40/40, Train Loss: 0.0393, Test Loss: 0.1802\n"
     ]
    },
    {
     "data": {
      "image/png": "[encoded data removed]",
      "text/plain": [
       "<Figure size 432x288 with 1 Axes>"
      ]
     },
     "metadata": {
      "needs_background": "light"
     },
     "output_type": "display_data"
    }
   ],
   "source": [
    "print(\"***training for RMSE loss function and SGD optimisation***\")\n",
    "Trainer = SalesPredictions(Model,criterion,optimizer)\n",
    "Trainer.train_test_rnn(epochs,train_data,test_data)"
   ]
  },
  {
   "cell_type": "code",
   "execution_count": 30,
   "id": "14174c4f",
   "metadata": {
    "ExecuteTime": {
     "end_time": "2023-03-19T21:44:56.579722Z",
     "start_time": "2023-03-19T21:44:56.551390Z"
    }
   },
   "outputs": [
    {
     "name": "stdout",
     "output_type": "stream",
     "text": [
      "Model's state_dict:\n",
      "rnn.weight_ih_l0    \t\t\t torch.Size([4, 4])\n",
      "rnn.weight_hh_l0    \t\t\t torch.Size([4, 4])\n",
      "rnn.bias_ih_l0    \t\t\t torch.Size([4])\n",
      "rnn.bias_hh_l0    \t\t\t torch.Size([4])\n",
      "rnn.weight_ih_l1    \t\t\t torch.Size([4, 4])\n",
      "rnn.weight_hh_l1    \t\t\t torch.Size([4, 4])\n",
      "rnn.bias_ih_l1    \t\t\t torch.Size([4])\n",
      "rnn.bias_hh_l1    \t\t\t torch.Size([4])\n",
      "fc.weight    \t\t\t torch.Size([1, 4])\n",
      "fc.bias    \t\t\t torch.Size([1])\n"
     ]
    }
   ],
   "source": [
    "# Print model's state_dict\n",
    "print(\"Model's state_dict:\")\n",
    "for param_tensor in Model.state_dict():\n",
    "    print(param_tensor, \"   \\t\\t\\t\", Model.state_dict()[param_tensor].size())"
   ]
  },
  {
   "cell_type": "code",
   "execution_count": 31,
   "id": "31a9a5ce",
   "metadata": {
    "ExecuteTime": {
     "end_time": "2023-03-19T21:44:56.609674Z",
     "start_time": "2023-03-19T21:44:56.582249Z"
    }
   },
   "outputs": [
    {
     "name": "stdout",
     "output_type": "stream",
     "text": [
      "Optimizer's state_dict:\n",
      "state \t\n",
      " {0: {'momentum_buffer': None}, 1: {'momentum_buffer': None}, 2: {'momentum_buffer': None}, 3: {'momentum_buffer': None}, 4: {'momentum_buffer': None}, 5: {'momentum_buffer': None}, 6: {'momentum_buffer': None}, 7: {'momentum_buffer': None}, 8: {'momentum_buffer': None}, 9: {'momentum_buffer': None}}\n",
      "param_groups \t\n",
      " [{'lr': 0.001, 'momentum': 0, 'dampening': 0, 'weight_decay': 0, 'nesterov': False, 'maximize': False, 'foreach': None, 'differentiable': False, 'params': [0, 1, 2, 3, 4, 5, 6, 7, 8, 9]}]\n"
     ]
    }
   ],
   "source": [
    "# Print optimizer's state_dict\n",
    "print(\"Optimizer's state_dict:\")\n",
    "for var_name in optimizer.state_dict():\n",
    "    print(var_name, \"\\t\\n\", optimizer.state_dict()[var_name])"
   ]
  },
  {
   "cell_type": "code",
   "execution_count": 32,
   "id": "ab146a15",
   "metadata": {
    "ExecuteTime": {
     "end_time": "2023-03-19T21:44:56.625669Z",
     "start_time": "2023-03-19T21:44:56.612674Z"
    }
   },
   "outputs": [],
   "source": [
    "from torch.utils.data import Dataset, DataLoader\n",
    "\n",
    "valid_dataset = SequenceDataset(valid_seq)\n",
    "valid_data = DataLoader(valid_dataset,batch_size=4)"
   ]
  },
  {
   "cell_type": "code",
   "execution_count": 33,
   "id": "4b75a244",
   "metadata": {
    "ExecuteTime": {
     "end_time": "2023-03-19T21:44:56.641391Z",
     "start_time": "2023-03-19T21:44:56.628675Z"
    }
   },
   "outputs": [],
   "source": [
    "test_dataset = SequenceDataset(test_seq)\n",
    "test_data = DataLoader(test_dataset,batch_size=4)"
   ]
  },
  {
   "cell_type": "code",
   "execution_count": 34,
   "id": "16840c41",
   "metadata": {
    "ExecuteTime": {
     "end_time": "2023-03-19T21:44:57.025222Z",
     "start_time": "2023-03-19T21:44:56.644393Z"
    }
   },
   "outputs": [
    {
     "name": "stdout",
     "output_type": "stream",
     "text": [
      "10\n",
      "<class 'pandas.core.frame.DataFrame'>\n",
      "RangeIndex: 10 entries, 1131 to 1140\n",
      "Data columns (total 4 columns):\n",
      " #   Column  Non-Null Count  Dtype  \n",
      "---  ------  --------------  -----  \n",
      " 0   year    10 non-null     float64\n",
      " 1   month   10 non-null     float64\n",
      " 2   day     10 non-null     float64\n",
      " 3   close   10 non-null     float64\n",
      "dtypes: float64(4)\n",
      "memory usage: 452.0 bytes\n"
     ]
    }
   ],
   "source": [
    "actual = valid_seq[0][0]\n",
    "print(len(actual))\n",
    "actual.info() # one sequence"
   ]
  },
  {
   "cell_type": "markdown",
   "id": "9de363d6",
   "metadata": {},
   "source": [
    "# Loading Models"
   ]
  },
  {
   "cell_type": "code",
   "execution_count": 35,
   "id": "17688122",
   "metadata": {
    "ExecuteTime": {
     "end_time": "2023-03-19T21:44:57.104260Z",
     "start_time": "2023-03-19T21:44:57.036228Z"
    }
   },
   "outputs": [],
   "source": [
    "#storing the state of the model in pytorch file\n",
    "state_dict = torch.load(\"rnn-model.pt\")"
   ]
  },
  {
   "cell_type": "code",
   "execution_count": 36,
   "id": "bcb3370a",
   "metadata": {
    "ExecuteTime": {
     "end_time": "2023-03-19T21:44:57.119660Z",
     "start_time": "2023-03-19T21:44:57.107266Z"
    }
   },
   "outputs": [
    {
     "data": {
      "text/plain": [
       "RNNModel(\n",
       "  (rnn): RNN(4, 4, num_layers=2, batch_first=True)\n",
       "  (fc): Linear(in_features=4, out_features=1, bias=True)\n",
       ")"
      ]
     },
     "execution_count": 36,
     "metadata": {},
     "output_type": "execute_result"
    }
   ],
   "source": [
    "loaded_model = RNNModel()\n",
    "loaded_model.load_state_dict(state_dict)\n",
    "loaded_model.eval()"
   ]
  },
  {
   "cell_type": "markdown",
   "id": "9a827f4f",
   "metadata": {},
   "source": [
    "# Model Evaluation"
   ]
  },
  {
   "cell_type": "code",
   "execution_count": 37,
   "id": "0372f06b",
   "metadata": {
    "ExecuteTime": {
     "end_time": "2023-03-19T21:44:57.135658Z",
     "start_time": "2023-03-19T21:44:57.122664Z"
    }
   },
   "outputs": [],
   "source": [
    "from Script import split_data,explore_predictions\n",
    "\n",
    "training_data, testing_data, validation_data = split_data(data)"
   ]
  },
  {
   "cell_type": "code",
   "execution_count": 38,
   "id": "d6fca49d",
   "metadata": {
    "ExecuteTime": {
     "end_time": "2023-03-19T21:44:59.702463Z",
     "start_time": "2023-03-19T21:44:57.138659Z"
    }
   },
   "outputs": [
    {
     "ename": "NameError",
     "evalue": "name 'Scaler' is not defined",
     "output_type": "error",
     "traceback": [
      "\u001b[1;31m---------------------------------------------------------------------------\u001b[0m",
      "\u001b[1;31mNameError\u001b[0m                                 Traceback (most recent call last)",
      "\u001b[1;32mC:\\Users\\IBRAHI~1\\AppData\\Local\\Temp/ipykernel_23904/4039242759.py\u001b[0m in \u001b[0;36m<module>\u001b[1;34m\u001b[0m\n\u001b[0;32m      4\u001b[0m \u001b[0mpredictions_on_train\u001b[0m \u001b[1;33m=\u001b[0m \u001b[0mmodel_evaluation\u001b[0m\u001b[1;33m(\u001b[0m\u001b[0mloaded_model\u001b[0m\u001b[1;33m,\u001b[0m\u001b[0mtrain_data\u001b[0m\u001b[1;33m)\u001b[0m\u001b[1;33m\u001b[0m\u001b[1;33m\u001b[0m\u001b[0m\n\u001b[0;32m      5\u001b[0m \u001b[0mpredictions_train\u001b[0m\u001b[1;33m,\u001b[0m\u001b[0mtrain_target\u001b[0m \u001b[1;33m=\u001b[0m \u001b[0mpredictions_preprocess\u001b[0m\u001b[1;33m(\u001b[0m\u001b[0mpredictions_on_train\u001b[0m\u001b[1;33m,\u001b[0m\u001b[0mtrain\u001b[0m\u001b[1;33m)\u001b[0m\u001b[1;33m\u001b[0m\u001b[1;33m\u001b[0m\u001b[0m\n\u001b[1;32m----> 6\u001b[1;33m \u001b[0mpredictions_train\u001b[0m\u001b[1;33m,\u001b[0m\u001b[0mtrain_target\u001b[0m \u001b[1;33m=\u001b[0m \u001b[0mreformat_data\u001b[0m\u001b[1;33m(\u001b[0m\u001b[0mpredictions_train\u001b[0m\u001b[1;33m,\u001b[0m\u001b[0mtrain_target\u001b[0m\u001b[1;33m,\u001b[0m\u001b[0mtraining_data\u001b[0m\u001b[1;33m)\u001b[0m\u001b[1;33m\u001b[0m\u001b[1;33m\u001b[0m\u001b[0m\n\u001b[0m\u001b[0;32m      7\u001b[0m \u001b[0mexplore_predictions\u001b[0m\u001b[1;33m(\u001b[0m\u001b[0mpredictions_train\u001b[0m\u001b[1;33m,\u001b[0m\u001b[0mtrain_target\u001b[0m\u001b[1;33m)\u001b[0m\u001b[1;33m\u001b[0m\u001b[1;33m\u001b[0m\u001b[0m\n",
      "\u001b[1;32m~\\Documents\\Python Project\\DataScience_Python\\RNN Project\\PytorchScript.py\u001b[0m in \u001b[0;36mreformat_data\u001b[1;34m(pred, target, data_origin)\u001b[0m\n\u001b[0;32m    150\u001b[0m \u001b[1;32mdef\u001b[0m \u001b[0mreformat_data\u001b[0m\u001b[1;33m(\u001b[0m\u001b[0mpred\u001b[0m\u001b[1;33m,\u001b[0m\u001b[0mtarget\u001b[0m\u001b[1;33m,\u001b[0m\u001b[0mdata_origin\u001b[0m\u001b[1;33m)\u001b[0m\u001b[1;33m:\u001b[0m\u001b[1;33m\u001b[0m\u001b[1;33m\u001b[0m\u001b[0m\n\u001b[0;32m    151\u001b[0m   \u001b[0mdata_origin\u001b[0m\u001b[1;33m.\u001b[0m\u001b[0mreset_index\u001b[0m\u001b[1;33m(\u001b[0m\u001b[0minplace\u001b[0m\u001b[1;33m=\u001b[0m\u001b[1;32mTrue\u001b[0m\u001b[1;33m)\u001b[0m\u001b[1;33m\u001b[0m\u001b[1;33m\u001b[0m\u001b[0m\n\u001b[1;32m--> 152\u001b[1;33m   \u001b[0mpred_descaled\u001b[0m\u001b[1;33m,\u001b[0m \u001b[0mtarget_descaled\u001b[0m \u001b[1;33m=\u001b[0m \u001b[0mdescale_transform\u001b[0m\u001b[1;33m(\u001b[0m\u001b[0mpred\u001b[0m\u001b[1;33m,\u001b[0m\u001b[0mtarget\u001b[0m\u001b[1;33m,\u001b[0m\u001b[0mScaler\u001b[0m\u001b[1;33m)\u001b[0m\u001b[1;33m\u001b[0m\u001b[1;33m\u001b[0m\u001b[0m\n\u001b[0m\u001b[0;32m    153\u001b[0m   \u001b[0mpred_descaled\u001b[0m\u001b[1;33m[\u001b[0m\u001b[1;34m'dates'\u001b[0m\u001b[1;33m]\u001b[0m \u001b[1;33m=\u001b[0m \u001b[0mdata_origin\u001b[0m\u001b[1;33m[\u001b[0m\u001b[1;34m'date'\u001b[0m\u001b[1;33m]\u001b[0m\u001b[1;33m\u001b[0m\u001b[1;33m\u001b[0m\u001b[0m\n\u001b[0;32m    154\u001b[0m   \u001b[0mtarget_descaled\u001b[0m\u001b[1;33m[\u001b[0m\u001b[1;34m'dates'\u001b[0m\u001b[1;33m]\u001b[0m \u001b[1;33m=\u001b[0m \u001b[0mdata_origin\u001b[0m\u001b[1;33m[\u001b[0m\u001b[1;34m'date'\u001b[0m\u001b[1;33m]\u001b[0m\u001b[1;33m\u001b[0m\u001b[1;33m\u001b[0m\u001b[0m\n",
      "\u001b[1;31mNameError\u001b[0m: name 'Scaler' is not defined"
     ]
    }
   ],
   "source": [
    "from PytorchScript import model_evaluation,predictions_preprocess,reformat_data\n",
    "from sklearn.preprocessing import MinMaxScaler\n",
    "\n",
    "predictions_on_train = model_evaluation(loaded_model,train_data)\n",
    "predictions_train,train_target = predictions_preprocess(predictions_on_train,train)\n",
    "predictions_train,train_target = reformat_data(predictions_train,train_target,training_data)\n",
    "explore_predictions(predictions_train,train_target)"
   ]
  },
  {
   "cell_type": "code",
   "execution_count": null,
   "id": "9af0e004",
   "metadata": {
    "ExecuteTime": {
     "end_time": "2023-03-19T21:44:59.705470Z",
     "start_time": "2023-03-19T21:44:59.705470Z"
    }
   },
   "outputs": [],
   "source": [
    "testing_data.tail()"
   ]
  },
  {
   "cell_type": "code",
   "execution_count": null,
   "id": "75f95645",
   "metadata": {},
   "outputs": [],
   "source": []
  }
 ],
 "metadata": {
  "kernelspec": {
   "display_name": "Python 3 (ipykernel)",
   "language": "python",
   "name": "python3"
  },
  "language_info": {
   "codemirror_mode": {
    "name": "ipython",
    "version": 3
   },
   "file_extension": ".py",
   "mimetype": "text/x-python",
   "name": "python",
   "nbconvert_exporter": "python",
   "pygments_lexer": "ipython3",
   "version": "3.9.7"
  },
  "toc": {
   "base_numbering": 1,
   "nav_menu": {},
   "number_sections": true,
   "sideBar": true,
   "skip_h1_title": false,
   "title_cell": "Table of Contents",
   "title_sidebar": "Contents",
   "toc_cell": false,
   "toc_position": {},
   "toc_section_display": true,
   "toc_window_display": true
  }
 },
 "nbformat": 4,
 "nbformat_minor": 5
}
